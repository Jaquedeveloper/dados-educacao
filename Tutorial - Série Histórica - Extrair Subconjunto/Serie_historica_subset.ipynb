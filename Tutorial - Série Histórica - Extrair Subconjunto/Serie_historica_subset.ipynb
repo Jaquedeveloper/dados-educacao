{
 "cells": [
  {
   "cell_type": "markdown",
   "metadata": {},
   "source": [
    "# Extraindo a série histórica de um subconjunto dos dados"
   ]
  },
  {
   "cell_type": "markdown",
   "metadata": {},
   "source": [
    "Pode ser que seu interesse, ao trabalhar com os microdados das matrículas, seja selecionar determinada série histórica.\n",
    "\n",
    "Os arquivos utilizados podem ser acessados no [Portal de Dados Abertos](http://dados.prefeitura.sp.gov.br/dataset/microdados-da-rede-municipal-de-ensino-matriculas). \n",
    "\n",
    "É possível que você necessite de só alguns dos anos, ou um intervalo menor. Por isso, nem sempre é interessante trabalhar com a base completa -- as operações podem ficar muito lentas ou mesmo inviáveis, por insuficiência de memória.\n",
    "\n",
    "[Em um outro exercício](https://github.com/prefeiturasp/dados-educacao/blob/master/Tutorial%20-%20Estudantes%20Estrangeiros/Estudantes_estrangeiros.ipynb), fizemos a operação para a base de alunos estrangeiros, por nacionalidade, para apenas um ano letivo. Neste, faremos algumas operações para extrair toda a série histórica disponível.  \n",
    "\n",
    "[Saiba mais](https://github.com/prefeiturasp/dados-educacao/blob/master/README.md) sobre os tutoriais dos dados abertos da SME.\n",
    "\n",
    "*Importante: também estamos aprendendo! Tem sugestões para melhorar os códigos? Não deixe de contribuir com este repositório :)*"
   ]
  },
  {
   "cell_type": "code",
   "execution_count": 21,
   "metadata": {
    "collapsed": true
   },
   "outputs": [],
   "source": [
    "import pandas as pd"
   ]
  },
  {
   "cell_type": "markdown",
   "metadata": {},
   "source": [
    "Trabalhamos aqui com os arquivos .csv disponíveis no Portal de Dados Abertos, já descompactados. Diferente do outro tutorial, porém, importaremos apenas algumas colunas (com que vamos trabalhar), para evitar insuficiência de memória: "
   ]
  },
  {
   "cell_type": "code",
   "execution_count": 22,
   "metadata": {
    "collapsed": true
   },
   "outputs": [],
   "source": [
    "anos = ['2009','2010', '2011', '2012', '2013', '2014', '2015', '2016']\n",
    "#anos letivos que serão selecionados\n",
    "\n",
    "colunas = ['AN_LETIVO', 'CD_ALUNO_SME', 'SITUACAO_MAT', 'DESC_RACA_COR', 'CD_SEXO', 'MES_NASC_ALUNO', \n",
    "           'ANO_NASC_ALUNO', 'TIPO_ESCOLA', 'DRE', 'NOME_DISTRITO', 'TURMA_ESCOL', \n",
    "           'MODALIDADE_SEGMENTO', 'DESC_SERIE', 'DESC_PAIS_NASC']\n",
    "#variáveis que serão selecionadas"
   ]
  },
  {
   "cell_type": "markdown",
   "metadata": {},
   "source": [
    "A lógica aqui é fazer as operações com cada base de uma vez, filtrando as colunas desejadas (aqui pegamos as mesmas de outro exercício, selecionando as nacionalidades de estudantes estrangeiros). Passamos de bases de dados de 1GB, cada, para arquivos de aproximadamente 300KB."
   ]
  },
  {
   "cell_type": "markdown",
   "metadata": {},
   "source": [
    "### Opção 1. Salvando em arquivos diferentes"
   ]
  },
  {
   "cell_type": "code",
   "execution_count": 28,
   "metadata": {},
   "outputs": [],
   "source": [
    "for ano in anos:\n",
    "    df = pd.read_csv('Microdados_EOL_Matriculas_'+str(ano)+'.csv', sep=';', encoding='ISO-8859-1', low_memory=False, usecols=colunas)\n",
    "    #Lê o arquivo e transforma em DataFrame\n",
    "    \n",
    "    estrangeiros = df[(df['DESC_PAIS_NASC'] != 'BRASIL')\n",
    "                      & (df['TURMA_ESCOL'] == 'S') \n",
    "                      & (df['SITUACAO_MAT'] == 'Concluido')].dropna(how='any', subset=['DESC_PAIS_NASC']).drop_duplicates('CD_ALUNO_SME')\n",
    "    #Filtra as nacionalidades diferentes de brasileira de alunos em turmas regulares e exclui registros em que as nacionalidades não estão declaradas\n",
    "    \n",
    "    estrangeiros.to_csv('estrangeiros'+str(ano)+'.csv', index=False)\n",
    "    #Exporta para arquivo excel"
   ]
  },
  {
   "cell_type": "markdown",
   "metadata": {},
   "source": [
    "Com o código acima, os arquivos '.csv' já foram gravados em arquivos separados no mesmo diretório."
   ]
  },
  {
   "cell_type": "markdown",
   "metadata": {},
   "source": [
    "### Opção 2. Salvando os arquivos em uma base única"
   ]
  },
  {
   "cell_type": "code",
   "execution_count": 27,
   "metadata": {
    "collapsed": true
   },
   "outputs": [],
   "source": [
    "df_todos = []\n",
    "\n",
    "for ano in anos:\n",
    "    \n",
    "    df = pd.read_csv('Microdados_EOL_Matriculas_'+str(ano)+'.csv', sep=';', encoding='ISO-8859-1', low_memory=False, usecols=colunas)\n",
    "    #Lê o arquivo e transforma em DataFrame\n",
    "    \n",
    "    estrangeiros = df[(df['DESC_PAIS_NASC'] != 'BRASIL')\n",
    "                      & (df['TURMA_ESCOL'] == 'S') \n",
    "                      & (df['SITUACAO_MAT'] == 'Concluido')].dropna(how='any', subset=['DESC_PAIS_NASC']).drop_duplicates('CD_ALUNO_SME')\n",
    "    #Filtra as nacionalidades diferentes de brasileira de alunos em turmas regulares e exclui registros em que as nacionalidades não estão declaradas\n",
    "    \n",
    "    df_todos.append(estrangeiros)\n",
    "\n",
    "df_todos = pd.concat(df_todos, axis=0)\n",
    "\n",
    "df_todos.to_excel('estrangeiros_completa.xlsx', index=False)"
   ]
  },
  {
   "cell_type": "markdown",
   "metadata": {},
   "source": [
    "Pronto. O arquivo completo está salvo no mesmo diretório. "
   ]
  }
 ],
 "metadata": {
  "kernelspec": {
   "display_name": "Python 3",
   "language": "python",
   "name": "python3"
  },
  "language_info": {
   "codemirror_mode": {
    "name": "ipython",
    "version": 3
   },
   "file_extension": ".py",
   "mimetype": "text/x-python",
   "name": "python",
   "nbconvert_exporter": "python",
   "pygments_lexer": "ipython3",
   "version": "3.6.3"
  }
 },
 "nbformat": 4,
 "nbformat_minor": 2
}
