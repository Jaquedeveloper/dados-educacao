{
 "cells": [
  {
   "cell_type": "markdown",
   "metadata": {},
   "source": [
    "# Totais de matrículas - Série Histórica"
   ]
  },
  {
   "cell_type": "markdown",
   "metadata": {},
   "source": [
    "Pode ser que seu interesse, ao trabalhar com os microdados das matrículas, seja selecionar determinada série histórica.\n",
    "\n",
    "Os arquivos utilizados podem ser acessados no [Portal de Dados Abertos](http://dados.prefeitura.sp.gov.br/dataset/microdados-da-rede-municipal-de-ensino-matriculas). \n",
    "\n",
    "É possível que você necessite de só alguns dos anos, ou um intervalo menor. Por isso, nem sempre é interessante trabalhar com a base completa -- as operações podem ficar muito lentas ou mesmo inviáveis, por insuficiência de memória.\n",
    "\n",
    "[Saiba mais](https://github.com/prefeiturasp/dados-educacao/blob/master/README.md) sobre os tutoriais dos dados abertos da SME.\n",
    "\n",
    "*Importante: também estamos aprendendo! Tem sugestões para melhorar os códigos? Não deixe de contribuir com este repositório :)*"
   ]
  },
  {
   "cell_type": "code",
   "execution_count": 1,
   "metadata": {
    "collapsed": true
   },
   "outputs": [],
   "source": [
    "import pandas as pd\n",
    "import numpy as np"
   ]
  },
  {
   "cell_type": "markdown",
   "metadata": {},
   "source": [
    "Trabalhamos aqui com os arquivos .csv disponíveis no Portal de Dados Abertos, já descompactados. Diferente do outro tutorial, porém, importaremos apenas algumas colunas (com que vamos trabalhar), para evitar insuficiência de memória: "
   ]
  },
  {
   "cell_type": "code",
   "execution_count": 2,
   "metadata": {
    "collapsed": true
   },
   "outputs": [],
   "source": [
    "anos = ['2009','2010', '2011', '2012', '2013', '2014', '2015', '2016']\n",
    "#anos letivos que serão selecionados\n",
    "\n",
    "colunas = ['AN_LETIVO', 'CD_ALUNO_SME', 'SITUACAO_MAT', 'MODALIDADE_SEGMENTO']\n",
    "#variáveis que serão selecionadas"
   ]
  },
  {
   "cell_type": "markdown",
   "metadata": {},
   "source": [
    "Um pouquinho de paciência para rodar o código abaixo (em especial com a quantidade de anos acima!)"
   ]
  },
  {
   "cell_type": "code",
   "execution_count": 3,
   "metadata": {},
   "outputs": [],
   "source": [
    "df_mat_total = []\n",
    "\n",
    "for ano in anos:\n",
    "    \n",
    "    matriculas = pd.read_csv('Microdados_EOL_Matriculas_'+str(ano)+'.csv', sep=';', encoding='ISO-8859-1', low_memory=False, usecols=colunas)\n",
    "    #Lê o arquivo e transforma em DataFrame\n",
    "    \n",
    "    df_mat_total.append(matriculas)\n",
    "\n",
    "df_mat_total = pd.concat(df_mat_total, axis=0, ignore_index=True)"
   ]
  },
  {
   "cell_type": "code",
   "execution_count": 40,
   "metadata": {
    "collapsed": true
   },
   "outputs": [],
   "source": [
    "filtros = ['CRECHE', 'PRE', 'Fund1', 'Fund2']\n",
    "#escolhendo algumas modalidades/segmentos específicos para totalizar\n",
    "\n",
    "df_filtrada = df_mat_total[(df_mat_total.MODALIDADE_SEGMENTO.isin(filtros)) \n",
    "                           & (df_mat_total['SITUACAO_MAT'] == 'Concluido')]"
   ]
  },
  {
   "cell_type": "code",
   "execution_count": 41,
   "metadata": {},
   "outputs": [
    {
     "data": {
      "text/html": [
       "<div>\n",
       "<style>\n",
       "    .dataframe thead tr:only-child th {\n",
       "        text-align: right;\n",
       "    }\n",
       "\n",
       "    .dataframe thead th {\n",
       "        text-align: left;\n",
       "    }\n",
       "\n",
       "    .dataframe tbody tr th {\n",
       "        vertical-align: top;\n",
       "    }\n",
       "</style>\n",
       "<table border=\"1\" class=\"dataframe\">\n",
       "  <thead>\n",
       "    <tr style=\"text-align: right;\">\n",
       "      <th></th>\n",
       "      <th>AN_LETIVO</th>\n",
       "      <th>MODALIDADE_SEGMENTO</th>\n",
       "      <th>CD_ALUNO_SME</th>\n",
       "      <th>SITUACAO_MAT</th>\n",
       "    </tr>\n",
       "  </thead>\n",
       "  <tbody>\n",
       "    <tr>\n",
       "      <th>13917086</th>\n",
       "      <td>2016</td>\n",
       "      <td>Fund2</td>\n",
       "      <td>4203276</td>\n",
       "      <td>Concluido</td>\n",
       "    </tr>\n",
       "    <tr>\n",
       "      <th>13917087</th>\n",
       "      <td>2016</td>\n",
       "      <td>Fund2</td>\n",
       "      <td>4846283</td>\n",
       "      <td>Concluido</td>\n",
       "    </tr>\n",
       "    <tr>\n",
       "      <th>13917088</th>\n",
       "      <td>2016</td>\n",
       "      <td>Fund2</td>\n",
       "      <td>4986111</td>\n",
       "      <td>Concluido</td>\n",
       "    </tr>\n",
       "    <tr>\n",
       "      <th>13917089</th>\n",
       "      <td>2016</td>\n",
       "      <td>Fund2</td>\n",
       "      <td>3597690</td>\n",
       "      <td>Concluido</td>\n",
       "    </tr>\n",
       "    <tr>\n",
       "      <th>13917090</th>\n",
       "      <td>2016</td>\n",
       "      <td>Fund1</td>\n",
       "      <td>5972658</td>\n",
       "      <td>Concluido</td>\n",
       "    </tr>\n",
       "  </tbody>\n",
       "</table>\n",
       "</div>"
      ],
      "text/plain": [
       "          AN_LETIVO MODALIDADE_SEGMENTO  CD_ALUNO_SME SITUACAO_MAT\n",
       "13917086       2016               Fund2       4203276    Concluido\n",
       "13917087       2016               Fund2       4846283    Concluido\n",
       "13917088       2016               Fund2       4986111    Concluido\n",
       "13917089       2016               Fund2       3597690    Concluido\n",
       "13917090       2016               Fund1       5972658    Concluido"
      ]
     },
     "execution_count": 41,
     "metadata": {},
     "output_type": "execute_result"
    }
   ],
   "source": [
    "df_filtrada.tail()"
   ]
  },
  {
   "cell_type": "code",
   "execution_count": 38,
   "metadata": {},
   "outputs": [
    {
     "data": {
      "text/plain": [
       "(7014157, 4)"
      ]
     },
     "execution_count": 38,
     "metadata": {},
     "output_type": "execute_result"
    }
   ],
   "source": [
    "df_filtrada.shape"
   ]
  },
  {
   "cell_type": "code",
   "execution_count": 50,
   "metadata": {},
   "outputs": [
    {
     "name": "stderr",
     "output_type": "stream",
     "text": [
      "C:\\ProgramData\\Anaconda3\\lib\\site-packages\\ipykernel_launcher.py:1: SettingWithCopyWarning: \n",
      "A value is trying to be set on a copy of a slice from a DataFrame.\n",
      "Try using .loc[row_indexer,col_indexer] = value instead\n",
      "\n",
      "See the caveats in the documentation: http://pandas.pydata.org/pandas-docs/stable/indexing.html#indexing-view-versus-copy\n",
      "  \"\"\"Entry point for launching an IPython kernel.\n"
     ]
    }
   ],
   "source": [
    "df_filtrada['MODALIDADE_SEGMENTO'] = df_filtrada['MODALIDADE_SEGMENTO'].astype('category', ordered=True, categories=['CRECHE', 'PRE', 'Fund1', 'Fund2']).cat.rename_categories(['Ed. Infantil - Creche', 'Ed. Infantil - Pré', 'Fundamental - Anos Iniciais', 'Fundamental - Anos Finais'])"
   ]
  },
  {
   "cell_type": "code",
   "execution_count": 51,
   "metadata": {
    "collapsed": true
   },
   "outputs": [],
   "source": [
    "totais = pd.pivot_table(df_filtrada, values='CD_ALUNO_SME',\n",
    "                        index='AN_LETIVO',\n",
    "                        columns='MODALIDADE_SEGMENTO',\n",
    "                        aggfunc=np.count_nonzero)"
   ]
  },
  {
   "cell_type": "code",
   "execution_count": 52,
   "metadata": {},
   "outputs": [
    {
     "data": {
      "text/html": [
       "<div>\n",
       "<style>\n",
       "    .dataframe thead tr:only-child th {\n",
       "        text-align: right;\n",
       "    }\n",
       "\n",
       "    .dataframe thead th {\n",
       "        text-align: left;\n",
       "    }\n",
       "\n",
       "    .dataframe tbody tr th {\n",
       "        vertical-align: top;\n",
       "    }\n",
       "</style>\n",
       "<table border=\"1\" class=\"dataframe\">\n",
       "  <thead>\n",
       "    <tr style=\"text-align: right;\">\n",
       "      <th>MODALIDADE_SEGMENTO</th>\n",
       "      <th>Ed. Infantil - Creche</th>\n",
       "      <th>Ed. Infantil - Pré</th>\n",
       "      <th>Fundamental - Anos Iniciais</th>\n",
       "      <th>Fundamental - Anos Finais</th>\n",
       "    </tr>\n",
       "    <tr>\n",
       "      <th>AN_LETIVO</th>\n",
       "      <th></th>\n",
       "      <th></th>\n",
       "      <th></th>\n",
       "      <th></th>\n",
       "    </tr>\n",
       "  </thead>\n",
       "  <tbody>\n",
       "    <tr>\n",
       "      <th>2009</th>\n",
       "      <td>123263</td>\n",
       "      <td>310051</td>\n",
       "      <td>246280</td>\n",
       "      <td>243675</td>\n",
       "    </tr>\n",
       "    <tr>\n",
       "      <th>2010</th>\n",
       "      <td>130378</td>\n",
       "      <td>289531</td>\n",
       "      <td>233269</td>\n",
       "      <td>246612</td>\n",
       "    </tr>\n",
       "    <tr>\n",
       "      <th>2011</th>\n",
       "      <td>195652</td>\n",
       "      <td>185398</td>\n",
       "      <td>215088</td>\n",
       "      <td>242796</td>\n",
       "    </tr>\n",
       "    <tr>\n",
       "      <th>2012</th>\n",
       "      <td>213561</td>\n",
       "      <td>182327</td>\n",
       "      <td>209006</td>\n",
       "      <td>239943</td>\n",
       "    </tr>\n",
       "    <tr>\n",
       "      <th>2013</th>\n",
       "      <td>214452</td>\n",
       "      <td>200394</td>\n",
       "      <td>205071</td>\n",
       "      <td>237507</td>\n",
       "    </tr>\n",
       "    <tr>\n",
       "      <th>2014</th>\n",
       "      <td>228311</td>\n",
       "      <td>202558</td>\n",
       "      <td>246661</td>\n",
       "      <td>177323</td>\n",
       "    </tr>\n",
       "    <tr>\n",
       "      <th>2015</th>\n",
       "      <td>260776</td>\n",
       "      <td>204573</td>\n",
       "      <td>245089</td>\n",
       "      <td>170289</td>\n",
       "    </tr>\n",
       "    <tr>\n",
       "      <th>2016</th>\n",
       "      <td>284115</td>\n",
       "      <td>215123</td>\n",
       "      <td>245641</td>\n",
       "      <td>169444</td>\n",
       "    </tr>\n",
       "  </tbody>\n",
       "</table>\n",
       "</div>"
      ],
      "text/plain": [
       "MODALIDADE_SEGMENTO  Ed. Infantil - Creche  Ed. Infantil - Pré  \\\n",
       "AN_LETIVO                                                        \n",
       "2009                                123263              310051   \n",
       "2010                                130378              289531   \n",
       "2011                                195652              185398   \n",
       "2012                                213561              182327   \n",
       "2013                                214452              200394   \n",
       "2014                                228311              202558   \n",
       "2015                                260776              204573   \n",
       "2016                                284115              215123   \n",
       "\n",
       "MODALIDADE_SEGMENTO  Fundamental - Anos Iniciais  Fundamental - Anos Finais  \n",
       "AN_LETIVO                                                                    \n",
       "2009                                      246280                     243675  \n",
       "2010                                      233269                     246612  \n",
       "2011                                      215088                     242796  \n",
       "2012                                      209006                     239943  \n",
       "2013                                      205071                     237507  \n",
       "2014                                      246661                     177323  \n",
       "2015                                      245089                     170289  \n",
       "2016                                      245641                     169444  "
      ]
     },
     "execution_count": 52,
     "metadata": {},
     "output_type": "execute_result"
    }
   ],
   "source": [
    "totais"
   ]
  },
  {
   "cell_type": "code",
   "execution_count": 53,
   "metadata": {
    "collapsed": true
   },
   "outputs": [],
   "source": [
    "totais.to_excel('totais.xlsx')"
   ]
  },
  {
   "cell_type": "code",
   "execution_count": null,
   "metadata": {
    "collapsed": true
   },
   "outputs": [],
   "source": []
  }
 ],
 "metadata": {
  "kernelspec": {
   "display_name": "Python 3",
   "language": "python",
   "name": "python3"
  },
  "language_info": {
   "codemirror_mode": {
    "name": "ipython",
    "version": 3
   },
   "file_extension": ".py",
   "mimetype": "text/x-python",
   "name": "python",
   "nbconvert_exporter": "python",
   "pygments_lexer": "ipython3",
   "version": "3.6.3"
  }
 },
 "nbformat": 4,
 "nbformat_minor": 2
}
