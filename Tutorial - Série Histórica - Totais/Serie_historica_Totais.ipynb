{
 "cells": [
  {
   "cell_type": "markdown",
   "metadata": {},
   "source": [
    "# Totais de matrículas - Série Histórica"
   ]
  },
  {
   "cell_type": "markdown",
   "metadata": {},
   "source": [
    "Pode ser que seu interesse, ao trabalhar com os microdados das matrículas, seja selecionar determinada série histórica.\n",
    "\n",
    "Os arquivos utilizados podem ser acessados no [Portal de Dados Abertos](http://dados.prefeitura.sp.gov.br/dataset/microdados-da-rede-municipal-de-ensino-matriculas). \n",
    "\n",
    "É possível que você necessite de só alguns dos anos, ou um intervalo menor. Por isso, nem sempre é interessante trabalhar com a base completa -- as operações podem ficar muito lentas ou mesmo inviáveis, por insuficiência de memória.\n",
    "\n",
    "[Saiba mais](https://github.com/prefeiturasp/dados-educacao/blob/master/README.md) sobre os tutoriais dos dados abertos da SME.\n",
    "\n",
    "*Importante: também estamos aprendendo! Tem sugestões para melhorar os códigos? Não deixe de contribuir com este repositório :)*"
   ]
  },
  {
   "cell_type": "code",
   "execution_count": 101,
   "metadata": {},
   "outputs": [],
   "source": [
    "import pandas as pd\n",
    "import numpy as np"
   ]
  },
  {
   "cell_type": "markdown",
   "metadata": {},
   "source": [
    "Trabalhamos aqui com os arquivos .csv disponíveis no Portal de Dados Abertos, já descompactados. Diferente do outro tutorial, porém, importaremos apenas algumas colunas (com que vamos trabalhar), para evitar insuficiência de memória: "
   ]
  },
  {
   "cell_type": "code",
   "execution_count": 119,
   "metadata": {
    "collapsed": true
   },
   "outputs": [],
   "source": [
    "anos = ['2009','2010', '2011', '2012', '2013', '2014', '2015', '2016']\n",
    "#anos letivos que serão selecionados\n",
    "\n",
    "colunas = ['AN_LETIVO', 'CD_ALUNO_SME', 'SITUACAO_MAT', 'MODALIDADE_SEGMENTO']\n",
    "#variáveis que serão selecionadas"
   ]
  },
  {
   "cell_type": "markdown",
   "metadata": {},
   "source": [
    "Um pourquinho de paciência para rodar o código abaixo (em especial com a quantidade de anos acima!)"
   ]
  },
  {
   "cell_type": "code",
   "execution_count": 120,
   "metadata": {},
   "outputs": [],
   "source": [
    "df_mat_total = []\n",
    "\n",
    "for ano in anos:\n",
    "    \n",
    "    matriculas = pd.read_csv('Microdados_EOL_Matriculas_'+str(ano)+'.csv', sep=';', encoding='ISO-8859-1', low_memory=False, usecols=colunas)\n",
    "    #Lê o arquivo e transforma em DataFrame\n",
    "    \n",
    "    df_mat_total.append(matriculas)\n",
    "\n",
    "df_mat_total = pd.concat(df_mat_total, axis=0)"
   ]
  },
  {
   "cell_type": "code",
   "execution_count": 129,
   "metadata": {},
   "outputs": [],
   "source": [
    "filtros = ['CRECHE', 'PRE', 'Fund1', 'Fund2']\n",
    "#escolhendo algumas modalidades/segmentos específicos para totalizar\n",
    "\n",
    "df_filtrada = df_mat_total[(df_mat_total.MODALIDADE_SEGMENTO.isin(filtros)) \n",
    "                           & (df_mat_total['SITUACAO_MAT'] == 'Concluido')]"
   ]
  },
  {
   "cell_type": "code",
   "execution_count": 130,
   "metadata": {},
   "outputs": [
    {
     "data": {
      "text/html": [
       "<div>\n",
       "<style>\n",
       "    .dataframe thead tr:only-child th {\n",
       "        text-align: right;\n",
       "    }\n",
       "\n",
       "    .dataframe thead th {\n",
       "        text-align: left;\n",
       "    }\n",
       "\n",
       "    .dataframe tbody tr th {\n",
       "        vertical-align: top;\n",
       "    }\n",
       "</style>\n",
       "<table border=\"1\" class=\"dataframe\">\n",
       "  <thead>\n",
       "    <tr style=\"text-align: right;\">\n",
       "      <th></th>\n",
       "      <th>AN_LETIVO</th>\n",
       "      <th>MODALIDADE_SEGMENTO</th>\n",
       "      <th>CD_ALUNO_SME</th>\n",
       "      <th>SITUACAO_MAT</th>\n",
       "    </tr>\n",
       "  </thead>\n",
       "  <tbody>\n",
       "    <tr>\n",
       "      <th>1651238</th>\n",
       "      <td>2016</td>\n",
       "      <td>Fund2</td>\n",
       "      <td>4203276</td>\n",
       "      <td>Concluido</td>\n",
       "    </tr>\n",
       "    <tr>\n",
       "      <th>1651239</th>\n",
       "      <td>2016</td>\n",
       "      <td>Fund2</td>\n",
       "      <td>4846283</td>\n",
       "      <td>Concluido</td>\n",
       "    </tr>\n",
       "    <tr>\n",
       "      <th>1651240</th>\n",
       "      <td>2016</td>\n",
       "      <td>Fund2</td>\n",
       "      <td>4986111</td>\n",
       "      <td>Concluido</td>\n",
       "    </tr>\n",
       "    <tr>\n",
       "      <th>1651241</th>\n",
       "      <td>2016</td>\n",
       "      <td>Fund2</td>\n",
       "      <td>3597690</td>\n",
       "      <td>Concluido</td>\n",
       "    </tr>\n",
       "    <tr>\n",
       "      <th>1651242</th>\n",
       "      <td>2016</td>\n",
       "      <td>Fund1</td>\n",
       "      <td>5972658</td>\n",
       "      <td>Concluido</td>\n",
       "    </tr>\n",
       "  </tbody>\n",
       "</table>\n",
       "</div>"
      ],
      "text/plain": [
       "         AN_LETIVO MODALIDADE_SEGMENTO  CD_ALUNO_SME SITUACAO_MAT\n",
       "1651238       2016               Fund2       4203276    Concluido\n",
       "1651239       2016               Fund2       4846283    Concluido\n",
       "1651240       2016               Fund2       4986111    Concluido\n",
       "1651241       2016               Fund2       3597690    Concluido\n",
       "1651242       2016               Fund1       5972658    Concluido"
      ]
     },
     "execution_count": 130,
     "metadata": {},
     "output_type": "execute_result"
    }
   ],
   "source": [
    "df_filtrada.tail()"
   ]
  },
  {
   "cell_type": "code",
   "execution_count": 131,
   "metadata": {},
   "outputs": [
    {
     "data": {
      "text/plain": [
       "(7014157, 4)"
      ]
     },
     "execution_count": 131,
     "metadata": {},
     "output_type": "execute_result"
    }
   ],
   "source": [
    "df_filtrada.shape"
   ]
  },
  {
   "cell_type": "code",
   "execution_count": 134,
   "metadata": {},
   "outputs": [],
   "source": [
    "totais = pd.pivot_table(df_filtrada, values='CD_ALUNO_SME', \n",
    "                     index=['AN_LETIVO', 'MODALIDADE_SEGMENTO'],\n",
    "                     aggfunc=np.count_nonzero)"
   ]
  },
  {
   "cell_type": "code",
   "execution_count": 135,
   "metadata": {},
   "outputs": [
    {
     "data": {
      "text/html": [
       "<div>\n",
       "<style>\n",
       "    .dataframe thead tr:only-child th {\n",
       "        text-align: right;\n",
       "    }\n",
       "\n",
       "    .dataframe thead th {\n",
       "        text-align: left;\n",
       "    }\n",
       "\n",
       "    .dataframe tbody tr th {\n",
       "        vertical-align: top;\n",
       "    }\n",
       "</style>\n",
       "<table border=\"1\" class=\"dataframe\">\n",
       "  <thead>\n",
       "    <tr style=\"text-align: right;\">\n",
       "      <th></th>\n",
       "      <th></th>\n",
       "      <th>CD_ALUNO_SME</th>\n",
       "    </tr>\n",
       "    <tr>\n",
       "      <th>AN_LETIVO</th>\n",
       "      <th>MODALIDADE_SEGMENTO</th>\n",
       "      <th></th>\n",
       "    </tr>\n",
       "  </thead>\n",
       "  <tbody>\n",
       "    <tr>\n",
       "      <th rowspan=\"4\" valign=\"top\">2009</th>\n",
       "      <th>CRECHE</th>\n",
       "      <td>123263</td>\n",
       "    </tr>\n",
       "    <tr>\n",
       "      <th>Fund1</th>\n",
       "      <td>246280</td>\n",
       "    </tr>\n",
       "    <tr>\n",
       "      <th>Fund2</th>\n",
       "      <td>243675</td>\n",
       "    </tr>\n",
       "    <tr>\n",
       "      <th>PRE</th>\n",
       "      <td>310051</td>\n",
       "    </tr>\n",
       "    <tr>\n",
       "      <th rowspan=\"4\" valign=\"top\">2010</th>\n",
       "      <th>CRECHE</th>\n",
       "      <td>130378</td>\n",
       "    </tr>\n",
       "    <tr>\n",
       "      <th>Fund1</th>\n",
       "      <td>233269</td>\n",
       "    </tr>\n",
       "    <tr>\n",
       "      <th>Fund2</th>\n",
       "      <td>246612</td>\n",
       "    </tr>\n",
       "    <tr>\n",
       "      <th>PRE</th>\n",
       "      <td>289531</td>\n",
       "    </tr>\n",
       "    <tr>\n",
       "      <th rowspan=\"4\" valign=\"top\">2011</th>\n",
       "      <th>CRECHE</th>\n",
       "      <td>195652</td>\n",
       "    </tr>\n",
       "    <tr>\n",
       "      <th>Fund1</th>\n",
       "      <td>215088</td>\n",
       "    </tr>\n",
       "    <tr>\n",
       "      <th>Fund2</th>\n",
       "      <td>242796</td>\n",
       "    </tr>\n",
       "    <tr>\n",
       "      <th>PRE</th>\n",
       "      <td>185398</td>\n",
       "    </tr>\n",
       "    <tr>\n",
       "      <th rowspan=\"4\" valign=\"top\">2012</th>\n",
       "      <th>CRECHE</th>\n",
       "      <td>213561</td>\n",
       "    </tr>\n",
       "    <tr>\n",
       "      <th>Fund1</th>\n",
       "      <td>209006</td>\n",
       "    </tr>\n",
       "    <tr>\n",
       "      <th>Fund2</th>\n",
       "      <td>239943</td>\n",
       "    </tr>\n",
       "    <tr>\n",
       "      <th>PRE</th>\n",
       "      <td>182327</td>\n",
       "    </tr>\n",
       "    <tr>\n",
       "      <th rowspan=\"4\" valign=\"top\">2013</th>\n",
       "      <th>CRECHE</th>\n",
       "      <td>214452</td>\n",
       "    </tr>\n",
       "    <tr>\n",
       "      <th>Fund1</th>\n",
       "      <td>205071</td>\n",
       "    </tr>\n",
       "    <tr>\n",
       "      <th>Fund2</th>\n",
       "      <td>237507</td>\n",
       "    </tr>\n",
       "    <tr>\n",
       "      <th>PRE</th>\n",
       "      <td>200394</td>\n",
       "    </tr>\n",
       "    <tr>\n",
       "      <th rowspan=\"4\" valign=\"top\">2014</th>\n",
       "      <th>CRECHE</th>\n",
       "      <td>228311</td>\n",
       "    </tr>\n",
       "    <tr>\n",
       "      <th>Fund1</th>\n",
       "      <td>246661</td>\n",
       "    </tr>\n",
       "    <tr>\n",
       "      <th>Fund2</th>\n",
       "      <td>177323</td>\n",
       "    </tr>\n",
       "    <tr>\n",
       "      <th>PRE</th>\n",
       "      <td>202558</td>\n",
       "    </tr>\n",
       "    <tr>\n",
       "      <th rowspan=\"4\" valign=\"top\">2015</th>\n",
       "      <th>CRECHE</th>\n",
       "      <td>260776</td>\n",
       "    </tr>\n",
       "    <tr>\n",
       "      <th>Fund1</th>\n",
       "      <td>245089</td>\n",
       "    </tr>\n",
       "    <tr>\n",
       "      <th>Fund2</th>\n",
       "      <td>170289</td>\n",
       "    </tr>\n",
       "    <tr>\n",
       "      <th>PRE</th>\n",
       "      <td>204573</td>\n",
       "    </tr>\n",
       "    <tr>\n",
       "      <th rowspan=\"4\" valign=\"top\">2016</th>\n",
       "      <th>CRECHE</th>\n",
       "      <td>284115</td>\n",
       "    </tr>\n",
       "    <tr>\n",
       "      <th>Fund1</th>\n",
       "      <td>245641</td>\n",
       "    </tr>\n",
       "    <tr>\n",
       "      <th>Fund2</th>\n",
       "      <td>169444</td>\n",
       "    </tr>\n",
       "    <tr>\n",
       "      <th>PRE</th>\n",
       "      <td>215123</td>\n",
       "    </tr>\n",
       "  </tbody>\n",
       "</table>\n",
       "</div>"
      ],
      "text/plain": [
       "                               CD_ALUNO_SME\n",
       "AN_LETIVO MODALIDADE_SEGMENTO              \n",
       "2009      CRECHE                     123263\n",
       "          Fund1                      246280\n",
       "          Fund2                      243675\n",
       "          PRE                        310051\n",
       "2010      CRECHE                     130378\n",
       "          Fund1                      233269\n",
       "          Fund2                      246612\n",
       "          PRE                        289531\n",
       "2011      CRECHE                     195652\n",
       "          Fund1                      215088\n",
       "          Fund2                      242796\n",
       "          PRE                        185398\n",
       "2012      CRECHE                     213561\n",
       "          Fund1                      209006\n",
       "          Fund2                      239943\n",
       "          PRE                        182327\n",
       "2013      CRECHE                     214452\n",
       "          Fund1                      205071\n",
       "          Fund2                      237507\n",
       "          PRE                        200394\n",
       "2014      CRECHE                     228311\n",
       "          Fund1                      246661\n",
       "          Fund2                      177323\n",
       "          PRE                        202558\n",
       "2015      CRECHE                     260776\n",
       "          Fund1                      245089\n",
       "          Fund2                      170289\n",
       "          PRE                        204573\n",
       "2016      CRECHE                     284115\n",
       "          Fund1                      245641\n",
       "          Fund2                      169444\n",
       "          PRE                        215123"
      ]
     },
     "execution_count": 135,
     "metadata": {},
     "output_type": "execute_result"
    }
   ],
   "source": [
    "totais"
   ]
  },
  {
   "cell_type": "code",
   "execution_count": 136,
   "metadata": {},
   "outputs": [],
   "source": [
    "totais.to_excel('totais.xlsx')"
   ]
  }
 ],
 "metadata": {
  "kernelspec": {
   "display_name": "Python 3",
   "language": "python",
   "name": "python3"
  },
  "language_info": {
   "codemirror_mode": {
    "name": "ipython",
    "version": 3
   },
   "file_extension": ".py",
   "mimetype": "text/x-python",
   "name": "python",
   "nbconvert_exporter": "python",
   "pygments_lexer": "ipython3",
   "version": "3.6.3"
  }
 },
 "nbformat": 4,
 "nbformat_minor": 2
}
